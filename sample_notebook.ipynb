{
 "cells": [
  {
   "cell_type": "code",
   "execution_count": null,
   "metadata": {},
   "outputs": [],
   "source": [
    "# Test basic imports\n",
    "import torch\n",
    "import tensorflow as tf\n",
    "from transformers import pipeline\n",
    "\n",
    "# Test GPU availability (if applicable)\n",
    "print(\"PyTorch GPU available:\", torch.cuda.is_available())\n",
    "\n",
    "# Test transformers\n",
    "classifier = pipeline(\"sentiment-analysis\")\n",
    "\n",
    "result = classifier(\"Hello, this is just a test! No, no!\")\n",
    "print(result)\n",
    "\n",
    "result = classifier(\"Hey, this is so cool!\")\n",
    "print(result)"
   ]
  }
 ],
 "metadata": {
  "kernelspec": {
   "display_name": "Python 3",
   "language": "python",
   "name": "python3"
  },
  "language_info": {
   "codemirror_mode": {
    "name": "ipython",
    "version": 3
   },
   "file_extension": ".py",
   "mimetype": "text/x-python",
   "name": "python",
   "nbconvert_exporter": "python",
   "pygments_lexer": "ipython3",
   "version": "3.12.7"
  }
 },
 "nbformat": 4,
 "nbformat_minor": 2
}
